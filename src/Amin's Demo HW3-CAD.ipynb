{
 "cells": [
  {
   "cell_type": "code",
   "execution_count": 2,
   "metadata": {
    "collapsed": false,
    "scrolled": true
   },
   "outputs": [],
   "source": [
    "# myDir = 'G:\\Amin\\Dropbox\\mycourse 2017/'\n",
    "myDir ='C:\\\\Users\\\\YYJ\\\\Desktop\\\\FIN580\\\\Homework1\\\\VolatilityForecasting\\\\src\\\\Data//'\n",
    "import numpy as np\n",
    "import pandas as pd\n",
    "import matplotlib.pyplot as plt\n",
    "%matplotlib inline  "
   ]
  },
  {
   "cell_type": "code",
   "execution_count": 3,
   "metadata": {
    "collapsed": false
   },
   "outputs": [],
   "source": [
    "CD = pd.read_csv(myDir + 'CADUSD.csv', usecols= ['Date', 'Time', 'Close'])\n",
    "CD['DateTime'] = pd.to_datetime(CD['Date'] + ' ' + CD['Time'])"
   ]
  },
  {
   "cell_type": "code",
   "execution_count": 4,
   "metadata": {
    "collapsed": false
   },
   "outputs": [
    {
     "data": {
      "text/html": [
       "<div>\n",
       "<table border=\"1\" class=\"dataframe\">\n",
       "  <thead>\n",
       "    <tr style=\"text-align: right;\">\n",
       "      <th></th>\n",
       "      <th>Date</th>\n",
       "      <th>Time</th>\n",
       "      <th>Close</th>\n",
       "      <th>DateTime</th>\n",
       "    </tr>\n",
       "    <tr>\n",
       "      <th>DateTime</th>\n",
       "      <th></th>\n",
       "      <th></th>\n",
       "      <th></th>\n",
       "      <th></th>\n",
       "    </tr>\n",
       "  </thead>\n",
       "  <tbody>\n",
       "    <tr>\n",
       "      <th>2008-05-06 16:05:00</th>\n",
       "      <td>05/06/2008</td>\n",
       "      <td>16:05</td>\n",
       "      <td>0.9971</td>\n",
       "      <td>2008-05-06 16:05:00</td>\n",
       "    </tr>\n",
       "    <tr>\n",
       "      <th>2008-05-06 16:10:00</th>\n",
       "      <td>05/06/2008</td>\n",
       "      <td>16:10</td>\n",
       "      <td>0.9973</td>\n",
       "      <td>2008-05-06 16:10:00</td>\n",
       "    </tr>\n",
       "    <tr>\n",
       "      <th>2008-05-06 16:15:00</th>\n",
       "      <td>05/06/2008</td>\n",
       "      <td>16:15</td>\n",
       "      <td>0.9976</td>\n",
       "      <td>2008-05-06 16:15:00</td>\n",
       "    </tr>\n",
       "    <tr>\n",
       "      <th>2008-05-06 16:20:00</th>\n",
       "      <td>05/06/2008</td>\n",
       "      <td>16:20</td>\n",
       "      <td>0.9979</td>\n",
       "      <td>2008-05-06 16:20:00</td>\n",
       "    </tr>\n",
       "    <tr>\n",
       "      <th>2008-05-06 16:25:00</th>\n",
       "      <td>05/06/2008</td>\n",
       "      <td>16:25</td>\n",
       "      <td>0.9973</td>\n",
       "      <td>2008-05-06 16:25:00</td>\n",
       "    </tr>\n",
       "  </tbody>\n",
       "</table>\n",
       "</div>"
      ],
      "text/plain": [
       "                           Date   Time   Close            DateTime\n",
       "DateTime                                                          \n",
       "2008-05-06 16:05:00  05/06/2008  16:05  0.9971 2008-05-06 16:05:00\n",
       "2008-05-06 16:10:00  05/06/2008  16:10  0.9973 2008-05-06 16:10:00\n",
       "2008-05-06 16:15:00  05/06/2008  16:15  0.9976 2008-05-06 16:15:00\n",
       "2008-05-06 16:20:00  05/06/2008  16:20  0.9979 2008-05-06 16:20:00\n",
       "2008-05-06 16:25:00  05/06/2008  16:25  0.9973 2008-05-06 16:25:00"
      ]
     },
     "execution_count": 4,
     "metadata": {},
     "output_type": "execute_result"
    }
   ],
   "source": [
    "CD.index= CD['DateTime']\n",
    "CD.head()"
   ]
  },
  {
   "cell_type": "code",
   "execution_count": 5,
   "metadata": {
    "collapsed": true
   },
   "outputs": [],
   "source": [
    "del CD['Date'], CD['Time'], CD['DateTime']"
   ]
  },
  {
   "cell_type": "code",
   "execution_count": 7,
   "metadata": {
    "collapsed": false
   },
   "outputs": [
    {
     "data": {
      "text/html": [
       "<div>\n",
       "<table border=\"1\" class=\"dataframe\">\n",
       "  <thead>\n",
       "    <tr style=\"text-align: right;\">\n",
       "      <th></th>\n",
       "      <th>Close</th>\n",
       "    </tr>\n",
       "    <tr>\n",
       "      <th>DateTime</th>\n",
       "      <th></th>\n",
       "    </tr>\n",
       "  </thead>\n",
       "  <tbody>\n",
       "    <tr>\n",
       "      <th>2008-05-06 16:05:00</th>\n",
       "      <td>0.9971</td>\n",
       "    </tr>\n",
       "    <tr>\n",
       "      <th>2008-05-06 16:10:00</th>\n",
       "      <td>0.9973</td>\n",
       "    </tr>\n",
       "    <tr>\n",
       "      <th>2008-05-06 16:15:00</th>\n",
       "      <td>0.9976</td>\n",
       "    </tr>\n",
       "    <tr>\n",
       "      <th>2008-05-06 16:20:00</th>\n",
       "      <td>0.9979</td>\n",
       "    </tr>\n",
       "    <tr>\n",
       "      <th>2008-05-06 16:25:00</th>\n",
       "      <td>0.9973</td>\n",
       "    </tr>\n",
       "  </tbody>\n",
       "</table>\n",
       "</div>"
      ],
      "text/plain": [
       "                      Close\n",
       "DateTime                   \n",
       "2008-05-06 16:05:00  0.9971\n",
       "2008-05-06 16:10:00  0.9973\n",
       "2008-05-06 16:15:00  0.9976\n",
       "2008-05-06 16:20:00  0.9979\n",
       "2008-05-06 16:25:00  0.9973"
      ]
     },
     "execution_count": 7,
     "metadata": {},
     "output_type": "execute_result"
    }
   ],
   "source": [
    "CD.head()"
   ]
  },
  {
   "cell_type": "code",
   "execution_count": 6,
   "metadata": {
    "collapsed": false
   },
   "outputs": [],
   "source": [
    "CD2 = (CD[1:].values - CD[:-1].values)/CD[:-1].values"
   ]
  },
  {
   "cell_type": "code",
   "execution_count": 7,
   "metadata": {
    "collapsed": false
   },
   "outputs": [
    {
     "data": {
      "text/html": [
       "<div>\n",
       "<table border=\"1\" class=\"dataframe\">\n",
       "  <thead>\n",
       "    <tr style=\"text-align: right;\">\n",
       "      <th></th>\n",
       "      <th>0</th>\n",
       "    </tr>\n",
       "    <tr>\n",
       "      <th>DateTime</th>\n",
       "      <th></th>\n",
       "    </tr>\n",
       "  </thead>\n",
       "  <tbody>\n",
       "    <tr>\n",
       "      <th>2008-05-06 16:10:00</th>\n",
       "      <td>0.000201</td>\n",
       "    </tr>\n",
       "    <tr>\n",
       "      <th>2008-05-06 16:15:00</th>\n",
       "      <td>0.000301</td>\n",
       "    </tr>\n",
       "    <tr>\n",
       "      <th>2008-05-06 16:20:00</th>\n",
       "      <td>0.000301</td>\n",
       "    </tr>\n",
       "    <tr>\n",
       "      <th>2008-05-06 16:25:00</th>\n",
       "      <td>-0.000601</td>\n",
       "    </tr>\n",
       "    <tr>\n",
       "      <th>2008-05-06 16:30:00</th>\n",
       "      <td>0.000100</td>\n",
       "    </tr>\n",
       "  </tbody>\n",
       "</table>\n",
       "</div>"
      ],
      "text/plain": [
       "                            0\n",
       "DateTime                     \n",
       "2008-05-06 16:10:00  0.000201\n",
       "2008-05-06 16:15:00  0.000301\n",
       "2008-05-06 16:20:00  0.000301\n",
       "2008-05-06 16:25:00 -0.000601\n",
       "2008-05-06 16:30:00  0.000100"
      ]
     },
     "execution_count": 7,
     "metadata": {},
     "output_type": "execute_result"
    }
   ],
   "source": [
    "CDR = pd.DataFrame(CD2, index= CD.index[1:])\n",
    "CDR.head()"
   ]
  },
  {
   "cell_type": "code",
   "execution_count": 8,
   "metadata": {
    "collapsed": false
   },
   "outputs": [
    {
     "data": {
      "text/html": [
       "<div>\n",
       "<table border=\"1\" class=\"dataframe\">\n",
       "  <thead>\n",
       "    <tr style=\"text-align: right;\">\n",
       "      <th></th>\n",
       "      <th>0</th>\n",
       "    </tr>\n",
       "    <tr>\n",
       "      <th>DateTime</th>\n",
       "      <th></th>\n",
       "    </tr>\n",
       "  </thead>\n",
       "  <tbody>\n",
       "    <tr>\n",
       "      <th>2008-05-06</th>\n",
       "      <td>27.0</td>\n",
       "    </tr>\n",
       "    <tr>\n",
       "      <th>2008-05-07</th>\n",
       "      <td>37.0</td>\n",
       "    </tr>\n",
       "    <tr>\n",
       "      <th>2008-05-08</th>\n",
       "      <td>43.0</td>\n",
       "    </tr>\n",
       "    <tr>\n",
       "      <th>2008-05-09</th>\n",
       "      <td>121.0</td>\n",
       "    </tr>\n",
       "    <tr>\n",
       "      <th>2008-05-10</th>\n",
       "      <td>288.0</td>\n",
       "    </tr>\n",
       "  </tbody>\n",
       "</table>\n",
       "</div>"
      ],
      "text/plain": [
       "                0\n",
       "DateTime         \n",
       "2008-05-06   27.0\n",
       "2008-05-07   37.0\n",
       "2008-05-08   43.0\n",
       "2008-05-09  121.0\n",
       "2008-05-10  288.0"
      ]
     },
     "execution_count": 8,
     "metadata": {},
     "output_type": "execute_result"
    }
   ],
   "source": [
    "def nanZeroCount(array):\n",
    "    nanSum = np.isnan(array).sum()\n",
    "    zeroSum = (array == 0).sum()\n",
    "    return nanSum + zeroSum\n",
    "CDR.resample('5T').asfreq().resample('1D').apply(nanZeroCount).head()"
   ]
  },
  {
   "cell_type": "code",
   "execution_count": 9,
   "metadata": {
    "collapsed": false
   },
   "outputs": [],
   "source": [
    "CDR.index = CDR.index + pd.to_timedelta('8H')"
   ]
  },
  {
   "cell_type": "code",
   "execution_count": 10,
   "metadata": {
    "collapsed": false
   },
   "outputs": [],
   "source": [
    "NanValues = CDR.resample('5T').asfreq().resample('1D').apply(nanZeroCount)"
   ]
  },
  {
   "cell_type": "code",
   "execution_count": 11,
   "metadata": {
    "collapsed": false
   },
   "outputs": [],
   "source": [
    "def nonZeroSTD(array):\n",
    "    a = array[array != 0]\n",
    "    return np.std(a)\n",
    "CDR_STD = CDR.resample('5T').asfreq().resample('1D').apply(nonZeroSTD)"
   ]
  },
  {
   "cell_type": "code",
   "execution_count": 12,
   "metadata": {
    "collapsed": false
   },
   "outputs": [],
   "source": [
    "CDR_STD = CDR_STD[NanValues[0]<90]*np.sqrt(288*250)"
   ]
  },
  {
   "cell_type": "code",
   "execution_count": 13,
   "metadata": {
    "collapsed": false
   },
   "outputs": [
    {
     "data": {
      "text/html": [
       "<div>\n",
       "<table border=\"1\" class=\"dataframe\">\n",
       "  <thead>\n",
       "    <tr style=\"text-align: right;\">\n",
       "      <th></th>\n",
       "      <th>nonZero STD</th>\n",
       "    </tr>\n",
       "    <tr>\n",
       "      <th>DateTime</th>\n",
       "      <th></th>\n",
       "    </tr>\n",
       "  </thead>\n",
       "  <tbody>\n",
       "    <tr>\n",
       "      <th>2008-05-07</th>\n",
       "      <td>0.115757</td>\n",
       "    </tr>\n",
       "    <tr>\n",
       "      <th>2008-05-08</th>\n",
       "      <td>0.132862</td>\n",
       "    </tr>\n",
       "    <tr>\n",
       "      <th>2008-05-09</th>\n",
       "      <td>0.126128</td>\n",
       "    </tr>\n",
       "    <tr>\n",
       "      <th>2008-05-12</th>\n",
       "      <td>0.102447</td>\n",
       "    </tr>\n",
       "    <tr>\n",
       "      <th>2008-05-13</th>\n",
       "      <td>0.112723</td>\n",
       "    </tr>\n",
       "  </tbody>\n",
       "</table>\n",
       "</div>"
      ],
      "text/plain": [
       "            nonZero STD\n",
       "DateTime               \n",
       "2008-05-07     0.115757\n",
       "2008-05-08     0.132862\n",
       "2008-05-09     0.126128\n",
       "2008-05-12     0.102447\n",
       "2008-05-13     0.112723"
      ]
     },
     "execution_count": 13,
     "metadata": {},
     "output_type": "execute_result"
    }
   ],
   "source": [
    "CDR_STD.columns = ['nonZero STD']\n",
    "CDR_STD.head()"
   ]
  },
  {
   "cell_type": "code",
   "execution_count": 14,
   "metadata": {
    "collapsed": false
   },
   "outputs": [
    {
     "data": {
      "text/plain": [
       "(1275, 1)"
      ]
     },
     "execution_count": 14,
     "metadata": {},
     "output_type": "execute_result"
    }
   ],
   "source": [
    "CDR_STD.shape"
   ]
  },
  {
   "cell_type": "code",
   "execution_count": 15,
   "metadata": {
    "collapsed": false
   },
   "outputs": [
    {
     "name": "stdout",
     "output_type": "stream",
     "text": [
      "0.00068807643071\n"
     ]
    }
   ],
   "source": [
    "MSE_Base = ((CDR_STD.values[0:-1] - CDR_STD.values[1:])**2).mean()\n",
    "print MSE_Base"
   ]
  },
  {
   "cell_type": "code",
   "execution_count": 16,
   "metadata": {
    "collapsed": false
   },
   "outputs": [
    {
     "data": {
      "text/plain": [
       "<matplotlib.axes._subplots.AxesSubplot at 0xeaf6b00>"
      ]
     },
     "execution_count": 16,
     "metadata": {},
     "output_type": "execute_result"
    },
    {
     "data": {
      "image/png": "[encoded data removed]",
      "text/plain": [
       "<matplotlib.figure.Figure at 0xeaf6f98>"
      ]
     },
     "metadata": {},
     "output_type": "display_data"
    }
   ],
   "source": [
    "CDR_STD.plot()"
   ]
  },
  {
   "cell_type": "code",
   "execution_count": 17,
   "metadata": {
    "collapsed": false
   },
   "outputs": [
    {
     "data": {
      "text/html": [
       "<div>\n",
       "<table border=\"1\" class=\"dataframe\">\n",
       "  <thead>\n",
       "    <tr style=\"text-align: right;\">\n",
       "      <th></th>\n",
       "      <th>0</th>\n",
       "    </tr>\n",
       "    <tr>\n",
       "      <th>DateTime</th>\n",
       "      <th></th>\n",
       "    </tr>\n",
       "  </thead>\n",
       "  <tbody>\n",
       "    <tr>\n",
       "      <th>2013-04-24</th>\n",
       "      <td>1.0</td>\n",
       "    </tr>\n",
       "    <tr>\n",
       "      <th>2013-04-25</th>\n",
       "      <td>-1.0</td>\n",
       "    </tr>\n",
       "    <tr>\n",
       "      <th>2013-04-29</th>\n",
       "      <td>1.0</td>\n",
       "    </tr>\n",
       "    <tr>\n",
       "      <th>2013-04-30</th>\n",
       "      <td>-1.0</td>\n",
       "    </tr>\n",
       "    <tr>\n",
       "      <th>2013-05-01</th>\n",
       "      <td>1.0</td>\n",
       "    </tr>\n",
       "  </tbody>\n",
       "</table>\n",
       "</div>"
      ],
      "text/plain": [
       "              0\n",
       "DateTime       \n",
       "2013-04-24  1.0\n",
       "2013-04-25 -1.0\n",
       "2013-04-29  1.0\n",
       "2013-04-30 -1.0\n",
       "2013-05-01  1.0"
      ]
     },
     "execution_count": 17,
     "metadata": {},
     "output_type": "execute_result"
    }
   ],
   "source": [
    "LabelsTF = CDR_STD.values[0:-1] < CDR_STD.values[1:]\n",
    "Labels = np.ones(LabelsTF.shape)\n",
    "Labels[~LabelsTF] = -1\n",
    "LabelsDF = pd.DataFrame(Labels, index = CDR_STD.index[:-1])\n",
    "LabelsDF.loc[CDR_STD.index[-1]] = 1\n",
    "LabelsDF.tail()"
   ]
  },
  {
   "cell_type": "code",
   "execution_count": 18,
   "metadata": {
    "collapsed": false
   },
   "outputs": [
    {
     "data": {
      "text/plain": [
       "<matplotlib.axes._subplots.AxesSubplot at 0xa6ce5c0>"
      ]
     },
     "execution_count": 18,
     "metadata": {},
     "output_type": "execute_result"
    },
    {
     "data": {
      "image/png": "[encoded data removed]",
      "text/plain": [
       "<matplotlib.figure.Figure at 0xeaf6748>"
      ]
     },
     "metadata": {},
     "output_type": "display_data"
    },
    {
     "data": {
      "image/png": "[encoded data removed]",
      "text/plain": [
       "<matplotlib.figure.Figure at 0xeaf62e8>"
      ]
     },
     "metadata": {},
     "output_type": "display_data"
    }
   ],
   "source": [
    "LabelsDF.head(10).plot()\n",
    "CDR_STD.head(10).plot()"
   ]
  },
  {
   "cell_type": "code",
   "execution_count": 83,
   "metadata": {
    "collapsed": true
   },
   "outputs": [],
   "source": [
    "DailyData = CDR_STD.resample('1D').asfreq().fillna(method ='bfill')\n",
    "LabelsDF = LabelsDF.resample('1D').asfreq().fillna(method ='bfill')\n",
    "def ResampleDays(DatesTS, df = DailyData):\n",
    "    DF1 = df.groupby(DatesTS.searchsorted(df.index)).nth(-1).dropna()\n",
    "    try:\n",
    "        DF1.index = DatesTS\n",
    "    except:\n",
    "        DF1 = DF1[:-1]\n",
    "        DF1.index = DatesTS\n",
    "    return DF1"
   ]
  },
  {
   "cell_type": "code",
   "execution_count": 84,
   "metadata": {
    "collapsed": false
   },
   "outputs": [],
   "source": [
    "SampleDays = pd.read_csv(myDir + 'v.csv', parse_dates =True, index_col = 0)\n",
    "SampleDays = SampleDays.loc[CDR_STD.index][1:-1]\n",
    "TrainingDates = SampleDays.index[(SampleDays.values ==1).flatten()]\n",
    "TestDates = SampleDays.index[(SampleDays.values ==0).flatten()]\n"
   ]
  },
  {
   "cell_type": "code",
   "execution_count": 89,
   "metadata": {
    "collapsed": false
   },
   "outputs": [
    {
     "data": {
      "text/plain": [
       "array([ 0.11575707,  0.13286199,  0.12612805, ...,  0.06148829,\n",
       "        0.06554698,  0.04716021])"
      ]
     },
     "execution_count": 89,
     "metadata": {},
     "output_type": "execute_result"
    }
   ],
   "source": [
    "DailyData['nonZero STD'].values"
   ]
  },
  {
   "cell_type": "code",
   "execution_count": 91,
   "metadata": {
    "collapsed": false
   },
   "outputs": [
    {
     "data": {
      "text/plain": [
       "array([[ 0.11575707],\n",
       "       [ 0.13286199],\n",
       "       [ 0.12612805],\n",
       "       ..., \n",
       "       [ 0.06148829],\n",
       "       [ 0.06554698],\n",
       "       [ 0.04716021]])"
      ]
     },
     "execution_count": 91,
     "metadata": {},
     "output_type": "execute_result"
    }
   ],
   "source": [
    "DailyData.values"
   ]
  },
  {
   "cell_type": "code",
   "execution_count": 106,
   "metadata": {
    "collapsed": false
   },
   "outputs": [
    {
     "name": "stdout",
     "output_type": "stream",
     "text": [
      "0.000742403590731\n",
      "max % improvement over base MSE:  58.8625623013\n"
     ]
    },
    {
     "data": {
      "image/png": "[encoded data removed]",
      "text/plain": [
       "<matplotlib.figure.Figure at 0xcdd40b8>"
      ]
     },
     "metadata": {},
     "output_type": "display_data"
    }
   ],
   "source": [
    "def plotMSEClass(dateRange, deltaRange, yh_t_df):\n",
    "    size = len(dateRange)\n",
    "    DS = ResampleDays(dateRange, DailyData['nonZero STD']).values.reshape(1, size)\n",
    "    DSP1D = ResampleDays(dateRange + pd.Timedelta('1 day'), DailyData['nonZero STD']).values.reshape(1, size)\n",
    "    yh_t = ResampleDays(dateRange, yh_t_df).values.reshape(1, size)\n",
    "    SEV = []\n",
    "    for delta in deltaRange:\n",
    "        SE_SVM1 = ((DSP1D - (1+yh_t*delta)* DS)**2).mean()\n",
    "        SEV.append(SE_SVM1)\n",
    "\n",
    "    plt.plot(deltaRange, SEV)\n",
    "    MSE_Base = ((DSP1D - DS)**2).mean()\n",
    "    print MSE_Base\n",
    "    plt.plot(deltaRange, [MSE_Base]*50, 'r')\n",
    "    print 'max % improvement over base MSE: ', (-np.min(SEV)+ MSE_Base)/MSE_Base*100\n",
    "\n",
    "deltaRange = np.linspace(0, .4, 50)\n",
    "yh_t = LabelsDF # clf.predict(CDR_STD.values[0:-1])\n",
    "plotMSEClass(TrainingDates, deltaRange, yh_t)"
   ]
  },
  {
   "cell_type": "code",
   "execution_count": 94,
   "metadata": {
    "collapsed": false
   },
   "outputs": [
    {
     "data": {
      "image/png": "[encoded data removed]",
      "text/plain": [
       "<matplotlib.figure.Figure at 0xd388400>"
      ]
     },
     "metadata": {},
     "output_type": "display_data"
    }
   ],
   "source": [
    "from sklearn.model_selection import cross_val_score\n",
    "from sklearn import svm\n",
    "svc = svm.SVC(kernel='linear')\n",
    "C_s = np.logspace(-2, 2, 40)\n",
    "\n",
    "TrainingSet = ResampleDays(TrainingDates, df = DailyData)\n",
    "TrainingLabels = ResampleDays(TrainingDates, df = LabelsDF)\n",
    "\n",
    "X = TrainingSet.values\n",
    "y = TrainingLabels.values.flatten()\n",
    "\n",
    "scores0 = list()\n",
    "scores_std0 = list()\n",
    "for C in C_s:\n",
    "    svc.C = C\n",
    "    this_scores = cross_val_score(svc, X, y, cv = 10)\n",
    "    scores0.append(np.mean(this_scores))\n",
    "    scores_std0.append(np.std(this_scores))\n",
    "\n",
    "# Do the plotting\n",
    "import matplotlib.pyplot as plt\n",
    "plt.figure(1, figsize=(10, 5))\n",
    "plt.clf()\n",
    "plt.semilogx(C_s, scores0)\n",
    "plt.semilogx(C_s, np.array(scores0) + np.array(scores_std0), 'b--')\n",
    "plt.semilogx(C_s, np.array(scores0) - np.array(scores_std0), 'b--')\n",
    "locs, labels = plt.yticks()\n",
    "plt.yticks(locs, list(map(lambda x: \"%g\" % x, locs)))\n",
    "plt.ylabel('CV score')\n",
    "plt.xlabel('Parameter C')\n",
    "#plt.ylim(0, 1.1)\n",
    "plt.show()"
   ]
  },
  {
   "cell_type": "code",
   "execution_count": 95,
   "metadata": {
    "collapsed": false
   },
   "outputs": [
    {
     "data": {
      "text/plain": [
       "SVC(C=2, cache_size=200, class_weight=None, coef0=0.0,\n",
       "  decision_function_shape=None, degree=3, gamma='auto', kernel='linear',\n",
       "  max_iter=-1, probability=False, random_state=None, shrinking=True,\n",
       "  tol=0.001, verbose=False)"
      ]
     },
     "execution_count": 95,
     "metadata": {},
     "output_type": "execute_result"
    }
   ],
   "source": [
    "svc.C = 2\n",
    "svc.fit(TrainingSet.values , TrainingLabels.values.flatten())"
   ]
  },
  {
   "cell_type": "code",
   "execution_count": 96,
   "metadata": {
    "collapsed": false
   },
   "outputs": [
    {
     "name": "stdout",
     "output_type": "stream",
     "text": [
      "max % improvement over base MSE:  4.35604852397\n"
     ]
    },
    {
     "data": {
      "image/png": "[encoded data removed]",
      "text/plain": [
       "<matplotlib.figure.Figure at 0xd10d240>"
      ]
     },
     "metadata": {},
     "output_type": "display_data"
    }
   ],
   "source": [
    "deltaRange = np.linspace(0, .4, 50)\n",
    "yh_t0 = pd.DataFrame(svc.predict(TrainingSet.values), index = TrainingDates)\n",
    "plotMSEClass(TrainingDates, deltaRange, yh_t0)"
   ]
  },
  {
   "cell_type": "code",
   "execution_count": 97,
   "metadata": {
    "collapsed": false
   },
   "outputs": [
    {
     "data": {
      "text/html": [
       "<div>\n",
       "<table border=\"1\" class=\"dataframe\">\n",
       "  <thead>\n",
       "    <tr style=\"text-align: right;\">\n",
       "      <th></th>\n",
       "      <th>nonZero STD</th>\n",
       "      <th>diff</th>\n",
       "    </tr>\n",
       "    <tr>\n",
       "      <th>DateTime</th>\n",
       "      <th></th>\n",
       "      <th></th>\n",
       "    </tr>\n",
       "  </thead>\n",
       "  <tbody>\n",
       "    <tr>\n",
       "      <th>2008-05-07</th>\n",
       "      <td>0.115757</td>\n",
       "      <td>NaN</td>\n",
       "    </tr>\n",
       "    <tr>\n",
       "      <th>2008-05-08</th>\n",
       "      <td>0.132862</td>\n",
       "      <td>0.017105</td>\n",
       "    </tr>\n",
       "    <tr>\n",
       "      <th>2008-05-09</th>\n",
       "      <td>0.126128</td>\n",
       "      <td>-0.006734</td>\n",
       "    </tr>\n",
       "    <tr>\n",
       "      <th>2008-05-10</th>\n",
       "      <td>0.102447</td>\n",
       "      <td>-0.023681</td>\n",
       "    </tr>\n",
       "    <tr>\n",
       "      <th>2008-05-11</th>\n",
       "      <td>0.102447</td>\n",
       "      <td>0.000000</td>\n",
       "    </tr>\n",
       "    <tr>\n",
       "      <th>2008-05-12</th>\n",
       "      <td>0.102447</td>\n",
       "      <td>0.000000</td>\n",
       "    </tr>\n",
       "    <tr>\n",
       "      <th>2008-05-13</th>\n",
       "      <td>0.112723</td>\n",
       "      <td>0.010276</td>\n",
       "    </tr>\n",
       "    <tr>\n",
       "      <th>2008-05-14</th>\n",
       "      <td>0.129255</td>\n",
       "      <td>0.016532</td>\n",
       "    </tr>\n",
       "    <tr>\n",
       "      <th>2008-05-15</th>\n",
       "      <td>0.118747</td>\n",
       "      <td>-0.010509</td>\n",
       "    </tr>\n",
       "    <tr>\n",
       "      <th>2008-05-16</th>\n",
       "      <td>0.120000</td>\n",
       "      <td>0.001253</td>\n",
       "    </tr>\n",
       "  </tbody>\n",
       "</table>\n",
       "</div>"
      ],
      "text/plain": [
       "            nonZero STD      diff\n",
       "DateTime                         \n",
       "2008-05-07     0.115757       NaN\n",
       "2008-05-08     0.132862  0.017105\n",
       "2008-05-09     0.126128 -0.006734\n",
       "2008-05-10     0.102447 -0.023681\n",
       "2008-05-11     0.102447  0.000000\n",
       "2008-05-12     0.102447  0.000000\n",
       "2008-05-13     0.112723  0.010276\n",
       "2008-05-14     0.129255  0.016532\n",
       "2008-05-15     0.118747 -0.010509\n",
       "2008-05-16     0.120000  0.001253"
      ]
     },
     "execution_count": 97,
     "metadata": {},
     "output_type": "execute_result"
    }
   ],
   "source": [
    "DailyData['diff'] = DailyData.diff()\n",
    "DailyData.head(10)"
   ]
  },
  {
   "cell_type": "code",
   "execution_count": 98,
   "metadata": {
    "collapsed": false
   },
   "outputs": [
    {
     "data": {
      "image/png": "[encoded data removed]",
      "text/plain": [
       "<matplotlib.figure.Figure at 0xd7c78d0>"
      ]
     },
     "metadata": {},
     "output_type": "display_data"
    }
   ],
   "source": [
    "svc = svm.SVC(kernel='linear')\n",
    "C_s = np.logspace(-2, 3, 40)\n",
    "\n",
    "TrainingSet = ResampleDays(TrainingDates, df = DailyData)\n",
    "TrainingLabels = ResampleDays(TrainingDates, df = LabelsDF)\n",
    "\n",
    "X = TrainingSet.values\n",
    "y = TrainingLabels.values.flatten()\n",
    "\n",
    "scores1 = list()\n",
    "scores_std1 = list()\n",
    "for C in C_s:\n",
    "    svc.C = C\n",
    "    this_scores = cross_val_score(svc, X, y, cv = 10)\n",
    "    scores1.append(np.mean(this_scores))\n",
    "    scores_std1.append(np.std(this_scores))\n",
    "\n",
    "# Do the plotting\n",
    "import matplotlib.pyplot as plt\n",
    "plt.figure(1, figsize=(10, 5))\n",
    "plt.clf()\n",
    "plt.semilogx(C_s, scores1)\n",
    "plt.semilogx(C_s, np.array(scores1) + np.array(scores_std1), 'b--')\n",
    "plt.semilogx(C_s, np.array(scores1) - np.array(scores_std1), 'b--')\n",
    "locs, labels = plt.yticks()\n",
    "plt.yticks(locs, list(map(lambda x: \"%g\" % x, locs)))\n",
    "plt.ylabel('CV score')\n",
    "plt.xlabel('Parameter C')\n",
    "#plt.ylim(0, 1.1)\n",
    "plt.show()\n"
   ]
  },
  {
   "cell_type": "code",
   "execution_count": 99,
   "metadata": {
    "collapsed": false
   },
   "outputs": [
    {
     "data": {
      "text/plain": [
       "SVC(C=19.9526231497, cache_size=200, class_weight=None, coef0=0.0,\n",
       "  decision_function_shape=None, degree=3, gamma='auto', kernel='linear',\n",
       "  max_iter=-1, probability=False, random_state=None, shrinking=True,\n",
       "  tol=0.001, verbose=False)"
      ]
     },
     "execution_count": 99,
     "metadata": {},
     "output_type": "execute_result"
    }
   ],
   "source": [
    "svc.C = 10**1.3\n",
    "svc.fit(TrainingSet.values , TrainingLabels.values.flatten())\n",
    "\n",
    "deltaRange = np.linspace(0, .4, 50)\n",
    "yh_t1 = pd.DataFrame(svc.predict(TrainingSet.values), index = TrainingDates)\n",
    "plotMSEClass(TrainingDates, deltaRange, yh_t1)"
   ]
  },
  {
   "cell_type": "code",
   "execution_count": 82,
   "metadata": {
    "collapsed": false
   },
   "outputs": [
    {
     "name": "stdout",
     "output_type": "stream",
     "text": [
      "632.0 766.0\n"
     ]
    }
   ],
   "source": [
    "print np.abs(TrainingLabels.values - yh_t1.values).sum(), np.abs(TrainingLabels.values - yh_t0.values).sum()"
   ]
  },
  {
   "cell_type": "code",
   "execution_count": 101,
   "metadata": {
    "collapsed": false
   },
   "outputs": [],
   "source": [
    "def nonZeroMean(array):\n",
    "    a = array[array != 0]\n",
    "    return np.mean(a)\n",
    "CDR_MEAN = CDR.resample('5T').asfreq().resample('1D').apply(nonZeroMean)\n",
    "DailyData['Return'] = CDR_MEAN * 250 * 288 \n",
    "DailyData['Return'].fillna(method = 'ffill', inplace = True)"
   ]
  },
  {
   "cell_type": "code",
   "execution_count": 102,
   "metadata": {
    "collapsed": false
   },
   "outputs": [
    {
     "data": {
      "image/png": "[encoded data removed]",
      "text/plain": [
       "<matplotlib.figure.Figure at 0xd10abe0>"
      ]
     },
     "metadata": {},
     "output_type": "display_data"
    }
   ],
   "source": [
    "svc = svm.SVC(kernel='linear')\n",
    "C_s = np.logspace(-2, 3, 40)\n",
    "\n",
    "TrainingSet = ResampleDays(TrainingDates, df = DailyData)\n",
    "TrainingLabels = ResampleDays(TrainingDates, df = LabelsDF)\n",
    "\n",
    "X = TrainingSet.values\n",
    "y = TrainingLabels.values.flatten()\n",
    "\n",
    "scores2 = list()\n",
    "scores_std2 = list()\n",
    "for C in C_s:\n",
    "    svc.C = C\n",
    "    this_scores = cross_val_score(svc, X, y, cv = 10)\n",
    "    scores2.append(np.mean(this_scores))\n",
    "    scores_std2.append(np.std(this_scores))\n",
    "\n",
    "# Do the plotting\n",
    "import matplotlib.pyplot as plt\n",
    "plt.figure(1, figsize=(10, 5))\n",
    "plt.clf()\n",
    "plt.semilogx(C_s, scores2)\n",
    "plt.semilogx(C_s, np.array(scores2) + np.array(scores_std2), 'b--')\n",
    "plt.semilogx(C_s, np.array(scores2) - np.array(scores_std2), 'b--')\n",
    "locs, labels = plt.yticks()\n",
    "plt.yticks(locs, list(map(lambda x: \"%g\" % x, locs)))\n",
    "plt.ylabel('CV score')\n",
    "plt.xlabel('Parameter C')\n",
    "#plt.ylim(0, 1.1)\n",
    "plt.show()"
   ]
  },
  {
   "cell_type": "code",
   "execution_count": 103,
   "metadata": {
    "collapsed": false
   },
   "outputs": [
    {
     "data": {
      "text/plain": [
       "[<matplotlib.lines.Line2D at 0xd0f65f8>]"
      ]
     },
     "execution_count": 103,
     "metadata": {},
     "output_type": "execute_result"
    },
    {
     "data": {
      "image/png": "[encoded data removed]",
      "text/plain": [
       "<matplotlib.figure.Figure at 0xd9b2e48>"
      ]
     },
     "metadata": {},
     "output_type": "display_data"
    }
   ],
   "source": [
    "plt.figure(1, figsize=(10, 5))\n",
    "plt.clf()\n",
    "plt.semilogx(C_s, scores1, 'b')\n",
    "plt.semilogx(C_s, scores2, 'c')"
   ]
  },
  {
   "cell_type": "code",
   "execution_count": 115,
   "metadata": {
    "collapsed": false
   },
   "outputs": [
    {
     "name": "stdout",
     "output_type": "stream",
     "text": [
      "0.000742403590731\n",
      "max % improvement over base MSE:  15.0689477236\n"
     ]
    },
    {
     "data": {
      "image/png": "[encoded data removed]",
      "text/plain": [
       "<matplotlib.figure.Figure at 0x11e84978>"
      ]
     },
     "metadata": {},
     "output_type": "display_data"
    }
   ],
   "source": [
    "svc.C = 10**1\n",
    "svc.fit(TrainingSet.values , TrainingLabels.values.flatten())\n",
    "TestLabels = ResampleDays(TestDates, df = LabelsDF)\n",
    "\n",
    "deltaRange = np.linspace(0, .4, 50)\n",
    "yh_t1 = pd.DataFrame(svc.predict(TrainingSet.values), index = TrainingDates)\n",
    "plotMSEClass(TrainingDates, deltaRange, yh_t1)"
   ]
  },
  {
   "cell_type": "code",
   "execution_count": 104,
   "metadata": {
    "collapsed": false
   },
   "outputs": [
    {
     "data": {
      "text/html": [
       "<div>\n",
       "<table border=\"1\" class=\"dataframe\">\n",
       "  <thead>\n",
       "    <tr style=\"text-align: right;\">\n",
       "      <th></th>\n",
       "      <th>nonZero STD</th>\n",
       "      <th>diff</th>\n",
       "      <th>Return</th>\n",
       "      <th>Return5D</th>\n",
       "    </tr>\n",
       "    <tr>\n",
       "      <th>DateTime</th>\n",
       "      <th></th>\n",
       "      <th></th>\n",
       "      <th></th>\n",
       "      <th></th>\n",
       "    </tr>\n",
       "  </thead>\n",
       "  <tbody>\n",
       "    <tr>\n",
       "      <th>2008-05-07</th>\n",
       "      <td>0.115757</td>\n",
       "      <td>NaN</td>\n",
       "      <td>-1.386308</td>\n",
       "      <td>0.00000</td>\n",
       "    </tr>\n",
       "    <tr>\n",
       "      <th>2008-05-08</th>\n",
       "      <td>0.132862</td>\n",
       "      <td>0.017105</td>\n",
       "      <td>-2.907592</td>\n",
       "      <td>0.00000</td>\n",
       "    </tr>\n",
       "    <tr>\n",
       "      <th>2008-05-09</th>\n",
       "      <td>0.126128</td>\n",
       "      <td>-0.006734</td>\n",
       "      <td>3.438723</td>\n",
       "      <td>0.00000</td>\n",
       "    </tr>\n",
       "    <tr>\n",
       "      <th>2008-05-10</th>\n",
       "      <td>0.102447</td>\n",
       "      <td>-0.023681</td>\n",
       "      <td>7.244918</td>\n",
       "      <td>0.00000</td>\n",
       "    </tr>\n",
       "    <tr>\n",
       "      <th>2008-05-11</th>\n",
       "      <td>0.102447</td>\n",
       "      <td>0.000000</td>\n",
       "      <td>7.244918</td>\n",
       "      <td>13.63466</td>\n",
       "    </tr>\n",
       "  </tbody>\n",
       "</table>\n",
       "</div>"
      ],
      "text/plain": [
       "            nonZero STD      diff    Return  Return5D\n",
       "DateTime                                             \n",
       "2008-05-07     0.115757       NaN -1.386308   0.00000\n",
       "2008-05-08     0.132862  0.017105 -2.907592   0.00000\n",
       "2008-05-09     0.126128 -0.006734  3.438723   0.00000\n",
       "2008-05-10     0.102447 -0.023681  7.244918   0.00000\n",
       "2008-05-11     0.102447  0.000000  7.244918  13.63466"
      ]
     },
     "execution_count": 104,
     "metadata": {},
     "output_type": "execute_result"
    }
   ],
   "source": [
    "DailyData['Return5D'] = DailyData['Return'].rolling(window=5).sum().fillna(0)\n",
    "DailyData.head()"
   ]
  },
  {
   "cell_type": "code",
   "execution_count": null,
   "metadata": {
    "collapsed": false
   },
   "outputs": [],
   "source": [
    "svc = svm.SVC(kernel='linear')\n",
    "C_s = np.logspace(-2, 3, 40)\n",
    "\n",
    "TrainingSet = ResampleDays(TrainingDates, df = DailyData)\n",
    "TrainingLabels = ResampleDays(TrainingDates, df = LabelsDF)\n",
    "\n",
    "X = TrainingSet[['nonZero STD', 'Return5D', 'diff']].values\n",
    "y = TrainingLabels.values.flatten()\n",
    "\n",
    "scores3 = list()\n",
    "scores_std3 = list()\n",
    "for C in C_s:\n",
    "    svc.C = C\n",
    "    this_scores = cross_val_score(svc, X, y, cv = 10)\n",
    "    scores3.append(np.mean(this_scores))\n",
    "    scores_std3.append(np.std(this_scores))\n",
    "\n",
    "# Do the plotting\n",
    "import matplotlib.pyplot as plt\n",
    "plt.figure(1, figsize=(10, 5))\n",
    "plt.clf()\n",
    "plt.semilogx(C_s, scores3)\n",
    "plt.semilogx(C_s, np.array(scores3) + np.array(scores_std3), 'b--')\n",
    "plt.semilogx(C_s, np.array(scores3) - np.array(scores_std3), 'b--')\n",
    "locs, labels = plt.yticks()\n",
    "plt.yticks(locs, list(map(lambda x: \"%g\" % x, locs)))\n",
    "plt.ylabel('CV score')\n",
    "plt.xlabel('Parameter C')\n",
    "#plt.ylim(0, 1.1)\n",
    "plt.show()"
   ]
  },
  {
   "cell_type": "code",
   "execution_count": null,
   "metadata": {
    "collapsed": true
   },
   "outputs": [],
   "source": []
  }
 ],
 "metadata": {
  "kernelspec": {
   "display_name": "Python [Root]",
   "language": "python",
   "name": "Python [Root]"
  },
  "language_info": {
   "codemirror_mode": {
    "name": "ipython",
    "version": 3
   },
   "file_extension": ".py",
   "mimetype": "text/x-python",
   "name": "python",
   "nbconvert_exporter": "python",
   "pygments_lexer": "ipython3",
   "version": "3.5.2"
  }
 },
 "nbformat": 4,
 "nbformat_minor": 0
}
